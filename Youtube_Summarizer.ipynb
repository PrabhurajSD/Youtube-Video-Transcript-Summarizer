{
 "cells": [
  {
   "cell_type": "code",
   "execution_count": 1,
   "id": "3c40d960",
   "metadata": {},
   "outputs": [],
   "source": [
    "! pip install pytube -q "
   ]
  },
  {
   "cell_type": "code",
   "execution_count": 2,
   "id": "12accd3a",
   "metadata": {},
   "outputs": [],
   "source": [
    "from pytube import YouTube"
   ]
  },
  {
   "cell_type": "code",
   "execution_count": 32,
   "id": "bd8854c7",
   "metadata": {},
   "outputs": [
    {
     "name": "stdout",
     "output_type": "stream",
     "text": [
      "input text \n",
      " ablackman from kenya and white woman from kansas i am married to a black american who carries within her the blood of slaves and slave ownersi have brothers sisters nieces nephew's uncles and cousins of every race and every hugh scattered across three continents these people are part of meand they are part of america this county that i lovei've come here to cairoto seek a new beginning between the united states and muslims around the worldone based on mutual interest and mutual respect just as muslims do not fit a cruidstereotype america is not the cruidstereotype of a self-interested empireto say that force may sometimes be necessary is not a call to synicism it is a recognition of historyhe imperfections of man limits of reasonwe gather here to honor the courage of ordinary americans willing to endure billy clots andchasening rodteer gas and trampling hoof men and women who despite the gush of blood and splintard bones would stay true to their norse star and keep marching towards ju\n",
      "Summarized text\n",
      " i am married to a black american who carries within her the blood of slaves and\n",
      "input text \n",
      "sticeblinded by hatred the alleged killer could not see the grace surrounding reverend picmant and that bible-study groupthe light of love that shown as tey opened the church doors and invited a strength to join in their prefesorthe alleged killer could have never anticipated the way the families of the fallin would respond when they saw him iin he midst of unspeakable grief with words of forgiveness he could imagine itand while this nation has been tested by war and has been tested by recepsion an all manner of challengei stand before you again tonight after almost two terms as your president to tell you i am more optimistic about the future of americathe nether the polanbc newsfans thanks for checking out our outube channel subscribed by clicking on that button down here and click on any of the videos over here to watch the latest interviews show highlights and digital exclusives thanks for watching\n",
      "Summarized text\n",
      " Sticeblinded by hatred the alleged killer could not see the grace surrounding reverend\n",
      "[' i am married to a black american who carries within her the blood of slaves and', ' Sticeblinded by hatred the alleged killer could not see the grace surrounding reverend']\n"
     ]
    }
   ],
   "source": [
    "num_iters = int(len(full_transcript)/1000)\n",
    "summarized_text = []\n",
    "for i in range(0, num_iters + 1):\n",
    "  start = 0\n",
    "  start = i * 1000\n",
    "  end = (i + 1) * 1000\n",
    "  print(\"input text \\n\" + full_transcript[start:end])\n",
    "  out = summarization(full_transcript[start:end], min_length = 5, max_length=20)\n",
    "  out = out[0]\n",
    "  out = out['summary_text']\n",
    "  print(\"Summarized text\\n\"+out)\n",
    "  summarized_text.append(out)\n",
    "\n",
    "print(summarized_text)"
   ]
  },
  {
   "cell_type": "code",
   "execution_count": 3,
   "id": "a1c02349",
   "metadata": {},
   "outputs": [],
   "source": [
    "VIDEO_URL = 'https://www.youtube.com/watch?v=hWLf6JFbZoo' "
   ]
  },
  {
   "cell_type": "code",
   "execution_count": 4,
   "id": "31b2197f",
   "metadata": {},
   "outputs": [],
   "source": [
    "yt = YouTube(VIDEO_URL)"
   ]
  },
  {
   "cell_type": "code",
   "execution_count": 5,
   "id": "6840fef5",
   "metadata": {},
   "outputs": [
    {
     "data": {
      "text/plain": [
       "'C:\\\\Users\\\\Prabhuraj\\\\ytaudio.mp4'"
      ]
     },
     "execution_count": 5,
     "metadata": {},
     "output_type": "execute_result"
    }
   ],
   "source": [
    "yt.streams \\\n",
    "  .filter(only_audio = True, file_extension = 'mp4') \\\n",
    "  .first() \\\n",
    "  .download(filename = 'ytaudio.mp4')"
   ]
  },
  {
   "cell_type": "code",
   "execution_count": 6,
   "id": "7859c013",
   "metadata": {},
   "outputs": [
    {
     "name": "stdout",
     "output_type": "stream",
     "text": [
      "^C\n"
     ]
    }
   ],
   "source": [
    "! ffmpeg -i ytaudio.mp4 -acodec pcm_s16le -ar 16000 ytaudio.wav"
   ]
  },
  {
   "cell_type": "code",
   "execution_count": 7,
   "id": "67a1364e",
   "metadata": {},
   "outputs": [],
   "source": [
    "!pip install huggingsound -q "
   ]
  },
  {
   "cell_type": "code",
   "execution_count": 8,
   "id": "6a800b8e",
   "metadata": {},
   "outputs": [
    {
     "name": "stderr",
     "output_type": "stream",
     "text": [
      "C:\\Users\\Prabhuraj\\anaconda3\\lib\\site-packages\\paramiko\\transport.py:219: CryptographyDeprecationWarning: Blowfish has been deprecated\n",
      "  \"class\": algorithms.Blowfish,\n"
     ]
    }
   ],
   "source": [
    "from huggingsound import SpeechRecognitionModel"
   ]
  },
  {
   "cell_type": "code",
   "execution_count": 9,
   "id": "16313442",
   "metadata": {},
   "outputs": [],
   "source": [
    "import torch\n",
    "device = \"cuda\" if torch.cuda.is_available() else \"cpu\""
   ]
  },
  {
   "cell_type": "code",
   "execution_count": 10,
   "id": "b8f20c50",
   "metadata": {},
   "outputs": [
    {
     "data": {
      "text/plain": [
       "'cpu'"
      ]
     },
     "execution_count": 10,
     "metadata": {},
     "output_type": "execute_result"
    }
   ],
   "source": [
    "device"
   ]
  },
  {
   "cell_type": "code",
   "execution_count": 11,
   "id": "cd7a1877",
   "metadata": {},
   "outputs": [
    {
     "name": "stdout",
     "output_type": "stream",
     "text": [
      "08/08/2023 11:45:09 - INFO - huggingsound.speech_recognition.model - Loading model...\n"
     ]
    }
   ],
   "source": [
    "model = SpeechRecognitionModel(\"jonatasgrosman/wav2vec2-large-xlsr-53-english\", device = device)"
   ]
  },
  {
   "cell_type": "code",
   "execution_count": 12,
   "id": "abc3e448",
   "metadata": {},
   "outputs": [],
   "source": [
    "import librosa"
   ]
  },
  {
   "cell_type": "code",
   "execution_count": 13,
   "id": "c94b82f1",
   "metadata": {},
   "outputs": [],
   "source": [
    "input_file = r\"C:\\Users\\Prabhuraj\\ytaudio.wav\""
   ]
  },
  {
   "cell_type": "code",
   "execution_count": 14,
   "id": "cb514f73",
   "metadata": {},
   "outputs": [
    {
     "name": "stdout",
     "output_type": "stream",
     "text": [
      "16000\n"
     ]
    }
   ],
   "source": [
    "print(librosa.get_samplerate(input_file))\n",
    "\n",
    "# Stream over 30 seconds chunks rather than load the full file\n",
    "stream = librosa.stream(\n",
    "    input_file,\n",
    "    block_length=30,\n",
    "    frame_length=16000,\n",
    "    hop_length=16000\n",
    ")"
   ]
  },
  {
   "cell_type": "code",
   "execution_count": 16,
   "id": "fbe456c2",
   "metadata": {
    "scrolled": true
   },
   "outputs": [],
   "source": [
    "import soundfile as sf"
   ]
  },
  {
   "cell_type": "code",
   "execution_count": 17,
   "id": "12f64430",
   "metadata": {},
   "outputs": [],
   "source": [
    "for i,speech in enumerate(stream):\n",
    "  sf.write(f'{i}.wav', speech, 16000)"
   ]
  },
  {
   "cell_type": "code",
   "execution_count": 18,
   "id": "f92f5964",
   "metadata": {},
   "outputs": [
    {
     "data": {
      "text/plain": [
       "5"
      ]
     },
     "execution_count": 18,
     "metadata": {},
     "output_type": "execute_result"
    }
   ],
   "source": [
    "i"
   ]
  },
  {
   "cell_type": "code",
   "execution_count": 19,
   "id": "643975d8",
   "metadata": {},
   "outputs": [],
   "source": [
    "audio_path =[]\n",
    "for a in range(i+1):\n",
    "  audio_path.append(fr'C:\\Users\\Prabhuraj\\{a}.wav') "
   ]
  },
  {
   "cell_type": "code",
   "execution_count": 20,
   "id": "e85bbac4",
   "metadata": {},
   "outputs": [
    {
     "data": {
      "text/plain": [
       "['C:\\\\Users\\\\Prabhuraj\\\\0.wav',\n",
       " 'C:\\\\Users\\\\Prabhuraj\\\\1.wav',\n",
       " 'C:\\\\Users\\\\Prabhuraj\\\\2.wav',\n",
       " 'C:\\\\Users\\\\Prabhuraj\\\\3.wav',\n",
       " 'C:\\\\Users\\\\Prabhuraj\\\\4.wav',\n",
       " 'C:\\\\Users\\\\Prabhuraj\\\\5.wav']"
      ]
     },
     "execution_count": 20,
     "metadata": {},
     "output_type": "execute_result"
    }
   ],
   "source": [
    "audio_path"
   ]
  },
  {
   "cell_type": "code",
   "execution_count": 21,
   "id": "2a986989",
   "metadata": {},
   "outputs": [
    {
     "name": "stderr",
     "output_type": "stream",
     "text": [
      "100%|███████████████████████████████████████████████████████████████████████████████████| 6/6 [50:48<00:00, 508.12s/it]\n"
     ]
    }
   ],
   "source": [
    "transcriptions = model.transcribe(audio_path)"
   ]
  },
  {
   "cell_type": "code",
   "execution_count": 22,
   "id": "ebdcf8d0",
   "metadata": {},
   "outputs": [],
   "source": [
    "full_transcript = ' '"
   ]
  },
  {
   "cell_type": "code",
   "execution_count": 23,
   "id": "ce71a6f6",
   "metadata": {},
   "outputs": [],
   "source": [
    "for item in transcriptions:\n",
    "  full_transcript += ''.join(item['transcription'])"
   ]
  },
  {
   "cell_type": "code",
   "execution_count": 24,
   "id": "1775532a",
   "metadata": {},
   "outputs": [
    {
     "data": {
      "text/plain": [
       "1914"
      ]
     },
     "execution_count": 24,
     "metadata": {},
     "output_type": "execute_result"
    }
   ],
   "source": [
    "len(full_transcript)"
   ]
  },
  {
   "cell_type": "code",
   "execution_count": 25,
   "id": "7aaff129",
   "metadata": {},
   "outputs": [
    {
     "name": "stdout",
     "output_type": "stream",
     "text": [
      "Requirement already satisfied: transformers in c:\\users\\prabhuraj\\anaconda3\\lib\\site-packages (4.31.0)Note: you may need to restart the kernel to use updated packages.\n",
      "\n",
      "Requirement already satisfied: filelock in c:\\users\\prabhuraj\\anaconda3\\lib\\site-packages (from transformers) (3.9.0)\n",
      "Requirement already satisfied: packaging>=20.0 in c:\\users\\prabhuraj\\anaconda3\\lib\\site-packages (from transformers) (22.0)\n",
      "Requirement already satisfied: tqdm>=4.27 in c:\\users\\prabhuraj\\anaconda3\\lib\\site-packages (from transformers) (4.64.1)\n",
      "Requirement already satisfied: regex!=2019.12.17 in c:\\users\\prabhuraj\\anaconda3\\lib\\site-packages (from transformers) (2022.7.9)\n",
      "Requirement already satisfied: numpy>=1.17 in c:\\users\\prabhuraj\\anaconda3\\lib\\site-packages (from transformers) (1.23.5)\n",
      "Requirement already satisfied: huggingface-hub<1.0,>=0.14.1 in c:\\users\\prabhuraj\\anaconda3\\lib\\site-packages (from transformers) (0.16.4)\n",
      "Requirement already satisfied: requests in c:\\users\\prabhuraj\\anaconda3\\lib\\site-packages (from transformers) (2.28.1)\n",
      "Requirement already satisfied: safetensors>=0.3.1 in c:\\users\\prabhuraj\\anaconda3\\lib\\site-packages (from transformers) (0.3.1)\n",
      "Requirement already satisfied: tokenizers!=0.11.3,<0.14,>=0.11.1 in c:\\users\\prabhuraj\\anaconda3\\lib\\site-packages (from transformers) (0.11.4)\n",
      "Requirement already satisfied: pyyaml>=5.1 in c:\\users\\prabhuraj\\anaconda3\\lib\\site-packages (from transformers) (6.0)\n",
      "Requirement already satisfied: fsspec in c:\\users\\prabhuraj\\anaconda3\\lib\\site-packages (from huggingface-hub<1.0,>=0.14.1->transformers) (2022.11.0)\n",
      "Requirement already satisfied: typing-extensions>=3.7.4.3 in c:\\users\\prabhuraj\\anaconda3\\lib\\site-packages (from huggingface-hub<1.0,>=0.14.1->transformers) (4.4.0)\n",
      "Requirement already satisfied: colorama in c:\\users\\prabhuraj\\anaconda3\\lib\\site-packages (from tqdm>=4.27->transformers) (0.4.6)\n",
      "Requirement already satisfied: urllib3<1.27,>=1.21.1 in c:\\users\\prabhuraj\\anaconda3\\lib\\site-packages (from requests->transformers) (1.26.14)\n",
      "Requirement already satisfied: idna<4,>=2.5 in c:\\users\\prabhuraj\\anaconda3\\lib\\site-packages (from requests->transformers) (3.4)\n",
      "Requirement already satisfied: certifi>=2017.4.17 in c:\\users\\prabhuraj\\anaconda3\\lib\\site-packages (from requests->transformers) (2022.12.7)\n",
      "Requirement already satisfied: charset-normalizer<3,>=2 in c:\\users\\prabhuraj\\anaconda3\\lib\\site-packages (from requests->transformers) (2.0.4)\n"
     ]
    }
   ],
   "source": [
    "pip install --upgrade transformers"
   ]
  },
  {
   "cell_type": "code",
   "execution_count": 26,
   "id": "77b69b32",
   "metadata": {},
   "outputs": [],
   "source": [
    "from transformers import pipeline"
   ]
  },
  {
   "cell_type": "code",
   "execution_count": 27,
   "id": "97cf02a1",
   "metadata": {
    "scrolled": false
   },
   "outputs": [
    {
     "name": "stderr",
     "output_type": "stream",
     "text": [
      "No model was supplied, defaulted to sshleifer/distilbart-cnn-12-6 and revision a4f8f3e (https://huggingface.co/sshleifer/distilbart-cnn-12-6).\n",
      "Using a pipeline without specifying a model name and revision in production is not recommended.\n"
     ]
    },
    {
     "data": {
      "application/vnd.jupyter.widget-view+json": {
       "model_id": "cf24b57977654933a467fe2d84196913",
       "version_major": 2,
       "version_minor": 0
      },
      "text/plain": [
       "Downloading pytorch_model.bin:   0%|          | 0.00/1.22G [00:00<?, ?B/s]"
      ]
     },
     "metadata": {},
     "output_type": "display_data"
    },
    {
     "name": "stderr",
     "output_type": "stream",
     "text": [
      "C:\\Users\\Prabhuraj\\anaconda3\\lib\\site-packages\\huggingface_hub\\file_download.py:133: UserWarning: `huggingface_hub` cache-system uses symlinks by default to efficiently store duplicated files but your machine does not support them in C:\\Users\\Prabhuraj\\.cache\\huggingface\\hub. Caching files will still work but in a degraded version that might require more space on your disk. This warning can be disabled by setting the `HF_HUB_DISABLE_SYMLINKS_WARNING` environment variable. For more details, see https://huggingface.co/docs/huggingface_hub/how-to-cache#limitations.\n",
      "To support symlinks on Windows, you either need to activate Developer Mode or to run Python as an administrator. In order to see activate developer mode, see this article: https://docs.microsoft.com/en-us/windows/apps/get-started/enable-your-device-for-development\n",
      "  warnings.warn(message)\n"
     ]
    },
    {
     "data": {
      "application/vnd.jupyter.widget-view+json": {
       "model_id": "7ed5d080151842599acc432d353490a6",
       "version_major": 2,
       "version_minor": 0
      },
      "text/plain": [
       "Downloading (…)okenizer_config.json:   0%|          | 0.00/26.0 [00:00<?, ?B/s]"
      ]
     },
     "metadata": {},
     "output_type": "display_data"
    },
    {
     "data": {
      "application/vnd.jupyter.widget-view+json": {
       "model_id": "d6d4fdaf9a9a4c519c28b2f72c14105d",
       "version_major": 2,
       "version_minor": 0
      },
      "text/plain": [
       "Downloading (…)olve/main/vocab.json:   0%|          | 0.00/899k [00:00<?, ?B/s]"
      ]
     },
     "metadata": {},
     "output_type": "display_data"
    },
    {
     "data": {
      "application/vnd.jupyter.widget-view+json": {
       "model_id": "6d08e5681e3c4c1f81b758b8ccf0eca6",
       "version_major": 2,
       "version_minor": 0
      },
      "text/plain": [
       "Downloading (…)olve/main/merges.txt:   0%|          | 0.00/456k [00:00<?, ?B/s]"
      ]
     },
     "metadata": {},
     "output_type": "display_data"
    }
   ],
   "source": [
    "summarization = pipeline('summarization')"
   ]
  },
  {
   "cell_type": "code",
   "execution_count": 28,
   "id": "cff4301a",
   "metadata": {},
   "outputs": [],
   "source": [
    "summarized_text = summarization(full_transcript)"
   ]
  },
  {
   "cell_type": "code",
   "execution_count": 29,
   "id": "6cbe72f0",
   "metadata": {},
   "outputs": [
    {
     "data": {
      "text/plain": [
       "\" i've come here to cairoto seek a new beginning between the united states and muslims around the world one based on mutual interest and mutual respect . i am married to a black american who carries within her the blood of slaves and slave owners . i have brothers sisters nieces nephew's uncles and cousins of every race and every hugh scattered across three continents .\""
      ]
     },
     "execution_count": 29,
     "metadata": {},
     "output_type": "execute_result"
    }
   ],
   "source": [
    "summarized_text[0]['summary_text']"
   ]
  },
  {
   "cell_type": "code",
   "execution_count": 32,
   "id": "ef792eb6",
   "metadata": {},
   "outputs": [
    {
     "name": "stdout",
     "output_type": "stream",
     "text": [
      "input text \n",
      " ablackman from kenya and white woman from kansas i am married to a black american who carries within her the blood of slaves and slave ownersi have brothers sisters nieces nephew's uncles and cousins of every race and every hugh scattered across three continents these people are part of meand they are part of america this county that i lovei've come here to cairoto seek a new beginning between the united states and muslims around the worldone based on mutual interest and mutual respect just as muslims do not fit a cruidstereotype america is not the cruidstereotype of a self-interested empireto say that force may sometimes be necessary is not a call to synicism it is a recognition of historyhe imperfections of man limits of reasonwe gather here to honor the courage of ordinary americans willing to endure billy clots andchasening rodteer gas and trampling hoof men and women who despite the gush of blood and splintard bones would stay true to their norse star and keep marching towards ju\n",
      "Summarized text\n",
      " i am married to a black american who carries within her the blood of slaves and\n",
      "input text \n",
      "sticeblinded by hatred the alleged killer could not see the grace surrounding reverend picmant and that bible-study groupthe light of love that shown as tey opened the church doors and invited a strength to join in their prefesorthe alleged killer could have never anticipated the way the families of the fallin would respond when they saw him iin he midst of unspeakable grief with words of forgiveness he could imagine itand while this nation has been tested by war and has been tested by recepsion an all manner of challengei stand before you again tonight after almost two terms as your president to tell you i am more optimistic about the future of americathe nether the polanbc newsfans thanks for checking out our outube channel subscribed by clicking on that button down here and click on any of the videos over here to watch the latest interviews show highlights and digital exclusives thanks for watching\n",
      "Summarized text\n",
      " Sticeblinded by hatred the alleged killer could not see the grace surrounding reverend\n",
      "[' i am married to a black american who carries within her the blood of slaves and', ' Sticeblinded by hatred the alleged killer could not see the grace surrounding reverend']\n"
     ]
    }
   ],
   "source": [
    "num_iters = int(len(full_transcript)/1000)\n",
    "summarized_text = []\n",
    "for i in range(0, num_iters + 1):\n",
    "  start = 0\n",
    "  start = i * 1000\n",
    "  end = (i + 1) * 1000\n",
    "  print(\"input text \\n\" + full_transcript[start:end])\n",
    "  out = summarization(full_transcript[start:end], min_length = 5, max_length=20)\n",
    "  out = out[0]\n",
    "  out = out['summary_text']\n",
    " print(\"Summarized text\\n\"+out)\n",
    "  summarized_text.append(out)\n",
    "\n",
    "print(summarized_text)"
   ]
  },
  {
   "cell_type": "code",
   "execution_count": null,
   "id": "83620753",
   "metadata": {},
   "outputs": [],
   "source": []
  }
 ],
 "metadata": {
  "kernelspec": {
   "display_name": "Python 3 (ipykernel)",
   "language": "python",
   "name": "python3"
  },
  "language_info": {
   "codemirror_mode": {
    "name": "ipython",
    "version": 3
   },
   "file_extension": ".py",
   "mimetype": "text/x-python",
   "name": "python",
   "nbconvert_exporter": "python",
   "pygments_lexer": "ipython3",
   "version": "3.10.9"
  }
 },
 "nbformat": 4,
 "nbformat_minor": 5
}
